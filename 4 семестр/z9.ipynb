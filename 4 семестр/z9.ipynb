{
  "cells":[
    {
      "cell_type":"code",
      "source":[
        "import numpy as np\n",
        "\n",
        "def swap(s, m, n):\n",
        "  i, j = min(m, n), max(m, n)\n",
        "  s1 = s.copy()\n",
        "  while i < j:\n",
        "      s1[i], s1[j] = s1[j], s1[i]\n",
        "      i += 1\n",
        "      j -= 1\n",
        "  return s1\n",
        "\n",
        "def TSP_SA(G):\n",
        "   s = list(range(len(G)))\n",
        "   c = cost(G, s)\n",
        "   ntrial = 1\n",
        "   T = 30\n",
        "   alpha = 0.99\n",
        "   while ntrial <= 1000:\n",
        "      n = np.random.randint(0, len(G))\n",
        "      while True:\n",
        "         m = np.random.randint(0, len(G))\n",
        "         if n != m:\n",
        "            break\n",
        "      s1 = swap(s, m, n)\n",
        "      c1 = cost(G, s1)\n",
        "      if c1 < c:\n",
        "         s, c = s1, c1\n",
        "      else:\n",
        "         if np.random.rand() < np.exp(-(c1 - c)\/T):\n",
        "            s, c = s1, c1\n",
        "      T = alpha*T\n",
        "      ntrial += 1\n",
        "\n",
        "   return s,c     \n",
        "\n",
        "  \n",
        "def cost(G, s):\n",
        "   l = 0\n",
        "   for i in range(len(s)-1):\n",
        "      l += G[s[i]][s[i+1]]\n",
        "   l += G[s[len(s)-1]][s[0]] \n",
        "   return l\n",
        "\n",
        "from pandas import read_csv\n",
        "dataset = read_csv('data.csv',';')\n",
        "dataset.head(7)  \n",
        "   "
      ],
      "attachments":{
        
      },
      "execution_count":38,
      "outputs":[
        {
          "data":{
            "text\/html":[
              "<div>\n",
              "<style scoped>\n",
              "    .dataframe tbody tr th:only-of-type {\n",
              "        vertical-align: middle;\n",
              "    }\n",
              "\n",
              "    .dataframe tbody tr th {\n",
              "        vertical-align: top;\n",
              "    }\n",
              "\n",
              "    .dataframe thead th {\n",
              "        text-align: right;\n",
              "    }\n",
              "<\/style>\n",
              "<table border=\"1\" class=\"dataframe\">\n",
              "  <thead>\n",
              "    <tr style=\"text-align: right;\">\n",
              "      <th><\/th>\n",
              "      <th>x1<\/th>\n",
              "      <th>x2<\/th>\n",
              "      <th>x3<\/th>\n",
              "      <th>x4<\/th>\n",
              "      <th>x5<\/th>\n",
              "      <th>x6<\/th>\n",
              "    <\/tr>\n",
              "  <\/thead>\n",
              "  <tbody>\n",
              "    <tr>\n",
              "      <th>0<\/th>\n",
              "      <td>88.4<\/td>\n",
              "      <td>98.1<\/td>\n",
              "      <td>73.3<\/td>\n",
              "      <td>35.5<\/td>\n",
              "      <td>5.1<\/td>\n",
              "      <td>30.4<\/td>\n",
              "    <\/tr>\n",
              "    <tr>\n",
              "      <th>1<\/th>\n",
              "      <td>70.6<\/td>\n",
              "      <td>50.6<\/td>\n",
              "      <td>51.2<\/td>\n",
              "      <td>13.9<\/td>\n",
              "      <td>29.0<\/td>\n",
              "      <td>8.4<\/td>\n",
              "    <\/tr>\n",
              "    <tr>\n",
              "      <th>2<\/th>\n",
              "      <td>44.7<\/td>\n",
              "      <td>91.9<\/td>\n",
              "      <td>88.9<\/td>\n",
              "      <td>1.1<\/td>\n",
              "      <td>10.0<\/td>\n",
              "      <td>20.6<\/td>\n",
              "    <\/tr>\n",
              "    <tr>\n",
              "      <th>3<\/th>\n",
              "      <td>56.0<\/td>\n",
              "      <td>49.1<\/td>\n",
              "      <td>84.5<\/td>\n",
              "      <td>79.4<\/td>\n",
              "      <td>53.3<\/td>\n",
              "      <td>75.8<\/td>\n",
              "    <\/tr>\n",
              "    <tr>\n",
              "      <th>4<\/th>\n",
              "      <td>85.8<\/td>\n",
              "      <td>24.8<\/td>\n",
              "      <td>34.0<\/td>\n",
              "      <td>42.8<\/td>\n",
              "      <td>5.5<\/td>\n",
              "      <td>86.3<\/td>\n",
              "    <\/tr>\n",
              "    <tr>\n",
              "      <th>5<\/th>\n",
              "      <td>70.8<\/td>\n",
              "      <td>6.5<\/td>\n",
              "      <td>63.4<\/td>\n",
              "      <td>91.2<\/td>\n",
              "      <td>48.1<\/td>\n",
              "      <td>63.3<\/td>\n",
              "    <\/tr>\n",
              "  <\/tbody>\n",
              "<\/table>\n",
              "<\/div>"
            ]
          },
          "metadata":{
            
          },
          "output_type":"display_data"
        }
      ],
      "metadata":{
        
      }
    },
    {
      "cell_type":"code",
      "source":[
        "G=dataset.values\n",
        "ss,cc=TSP_SA(G)\n",
        "print(ss)\n",
        "print(cc)"
      ],
      "attachments":{
        
      },
      "execution_count":39,
      "outputs":[
        {
          "name":"stdout",
          "text":[
            "[2, 5, 1, 3, 0, 4]\n",
            "136.1\n"
          ],
          "output_type":"stream"
        }
      ],
      "metadata":{
        
      }
    },
    {
      "cell_type":"code",
      "source":[
        "G=dataset.values\n",
        "ss,cc=TSP_SA(G)\n",
        "print(ss)\n",
        "print(cc)"
      ],
      "attachments":{
        
      },
      "execution_count":40,
      "outputs":[
        {
          "name":"stdout",
          "text":[
            "[0, 4, 2, 5, 1, 3]\n",
            "136.10000000000002\n"
          ],
          "output_type":"stream"
        }
      ],
      "metadata":{
        
      }
    },
    {
      "cell_type":"code",
      "source":[
        "G=dataset.values\n",
        "ss,cc=TSP_SA(G)\n",
        "print(ss)\n",
        "print(cc)"
      ],
      "attachments":{
        
      },
      "execution_count":41,
      "outputs":[
        {
          "name":"stdout",
          "text":[
            "[0, 4, 2, 5, 1, 3]\n",
            "136.10000000000002\n"
          ],
          "output_type":"stream"
        }
      ],
      "metadata":{
        
      }
    },
    {
      "cell_type":"markdown",
      "source":[
        "Как и в муравьином алгоритме лучший результат- 136"
      ],
      "attachments":{
        
      },
      "metadata":{
        
      }
    },
    {
      "cell_type":"code",
      "source":[
        "dataset_simm = read_csv('data.csv',';')\n",
        "dataset_simm.head(7)  "
      ],
      "attachments":{
        
      },
      "execution_count":42,
      "outputs":[
        {
          "data":{
            "text\/html":[
              "<div>\n",
              "<style scoped>\n",
              "    .dataframe tbody tr th:only-of-type {\n",
              "        vertical-align: middle;\n",
              "    }\n",
              "\n",
              "    .dataframe tbody tr th {\n",
              "        vertical-align: top;\n",
              "    }\n",
              "\n",
              "    .dataframe thead th {\n",
              "        text-align: right;\n",
              "    }\n",
              "<\/style>\n",
              "<table border=\"1\" class=\"dataframe\">\n",
              "  <thead>\n",
              "    <tr style=\"text-align: right;\">\n",
              "      <th><\/th>\n",
              "      <th>x1<\/th>\n",
              "      <th>x2<\/th>\n",
              "      <th>x3<\/th>\n",
              "      <th>x4<\/th>\n",
              "      <th>x5<\/th>\n",
              "      <th>x6<\/th>\n",
              "    <\/tr>\n",
              "  <\/thead>\n",
              "  <tbody>\n",
              "    <tr>\n",
              "      <th>0<\/th>\n",
              "      <td>88.4<\/td>\n",
              "      <td>98.1<\/td>\n",
              "      <td>73.3<\/td>\n",
              "      <td>35.5<\/td>\n",
              "      <td>5.1<\/td>\n",
              "      <td>30.4<\/td>\n",
              "    <\/tr>\n",
              "    <tr>\n",
              "      <th>1<\/th>\n",
              "      <td>70.6<\/td>\n",
              "      <td>50.6<\/td>\n",
              "      <td>51.2<\/td>\n",
              "      <td>13.9<\/td>\n",
              "      <td>29.0<\/td>\n",
              "      <td>8.4<\/td>\n",
              "    <\/tr>\n",
              "    <tr>\n",
              "      <th>2<\/th>\n",
              "      <td>44.7<\/td>\n",
              "      <td>91.9<\/td>\n",
              "      <td>88.9<\/td>\n",
              "      <td>1.1<\/td>\n",
              "      <td>10.0<\/td>\n",
              "      <td>20.6<\/td>\n",
              "    <\/tr>\n",
              "    <tr>\n",
              "      <th>3<\/th>\n",
              "      <td>56.0<\/td>\n",
              "      <td>49.1<\/td>\n",
              "      <td>84.5<\/td>\n",
              "      <td>79.4<\/td>\n",
              "      <td>53.3<\/td>\n",
              "      <td>75.8<\/td>\n",
              "    <\/tr>\n",
              "    <tr>\n",
              "      <th>4<\/th>\n",
              "      <td>85.8<\/td>\n",
              "      <td>24.8<\/td>\n",
              "      <td>34.0<\/td>\n",
              "      <td>42.8<\/td>\n",
              "      <td>5.5<\/td>\n",
              "      <td>86.3<\/td>\n",
              "    <\/tr>\n",
              "    <tr>\n",
              "      <th>5<\/th>\n",
              "      <td>70.8<\/td>\n",
              "      <td>6.5<\/td>\n",
              "      <td>63.4<\/td>\n",
              "      <td>91.2<\/td>\n",
              "      <td>48.1<\/td>\n",
              "      <td>63.3<\/td>\n",
              "    <\/tr>\n",
              "  <\/tbody>\n",
              "<\/table>\n",
              "<\/div>"
            ]
          },
          "metadata":{
            
          },
          "output_type":"display_data"
        }
      ],
      "metadata":{
        
      }
    },
    {
      "cell_type":"code",
      "source":[
        "G_simm=dataset_simm.values\n",
        "ss_simm,cc_simm=TSP_SA(G_simm)\n",
        "print(ss_simm)\n",
        "print(cc_simm)"
      ],
      "attachments":{
        
      },
      "execution_count":43,
      "outputs":[
        {
          "name":"stdout",
          "text":[
            "[0, 4, 2, 5, 1, 3]\n",
            "136.10000000000002\n"
          ],
          "output_type":"stream"
        }
      ],
      "metadata":{
        
      }
    }
  ],
  "metadata":{
    
  },
  "nbformat":4,
  "nbformat_minor":0
}