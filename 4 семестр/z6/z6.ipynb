{
  "cells":[
    {
      "cell_type":"code",
      "source":[
        "import math\n",
        "import numpy as np\n",
        "import tensorflow as tf\n",
        "import matplotlib.pyplot as plt\n",
        "\n",
        "import tensorflow.compat.v1 as tf\n",
        "\n",
        "tf.disable_v2_behavior() \n",
        "\n",
        "x_min, x_max = 0, 30 # argument range\n",
        "\n",
        "test_data_size = 700 # amount of data\n",
        "iterations = 10000 # number of teests\n",
        "learn_rate = 0.01 # velocity of lerning\n",
        "\n",
        "hiddenSize = 8 # size of hidden layer\n",
        "\n",
        "# generation of arguments and results of target function\n",
        "def generate_test_values():\n",
        "    train_x = []\n",
        "    train_y = []\n",
        "\n",
        "    for _ in range(test_data_size):\n",
        "        x = x_min+(x_max-x_min)*np.random.rand()\n",
        "        y = math.tan(x) # исследуемая функция\n",
        "        train_x.append([x])\n",
        "        train_y.append([y])\n",
        "\n",
        "    return np.array(train_x), np.array(train_y)\n",
        "     # argument neuron\n",
        "x = tf.placeholder(tf.float32, [None, 1], name=\"x\")\n",
        "\n",
        "# function neuron\n",
        "y = tf.placeholder(tf.float32, [None, 1], name=\"y\")\n",
        "\n",
        "# скрытый слой\n",
        "nn = tf.layers.dense(x, hiddenSize,\n",
        "                     activation=tf.nn.sigmoid,\n",
        "                     kernel_initializer=tf.initializers.ones(),\n",
        "                     bias_initializer=tf.initializers.random_uniform(minval=-x_max, maxval=-x_min),\n",
        "                     name=\"hidden\")\n",
        "\n",
        "# выходной слой\n",
        "model = tf.layers.dense(nn, 1,\n",
        "                        activation=None,\n",
        "                        name=\"output\")\n",
        "\n",
        "# функция подсчёта ошибки\n",
        "cost = tf.losses.mean_squared_error(y, model)\n",
        "\n",
        "train = tf.train.GradientDescentOptimizer(learn_rate).minimize(cost)\n",
        "\n",
        "#learning\n",
        "init = tf.initializers.global_variables()\n",
        "\n",
        "with tf.Session() as session:\n",
        "    session.run(init)\n",
        "\n",
        "    for _ in range(iterations):\n",
        "\n",
        "        train_dataset, train_values = generate_test_values()\n",
        "\n",
        "        session.run(train, feed_dict={\n",
        "            x: train_dataset,\n",
        "            y: train_values\n",
        "        })\n",
        "\n",
        "        if(_ % 1000 == 999):\n",
        "            print(\"cost = {}\".format(session.run(cost, feed_dict={\n",
        "                x: train_dataset,\n",
        "                y: train_values\n",
        "            })))\n",
        "\n",
        "            train_dataset, train_values = generate_test_values()\n",
        "\n",
        "    train_values1 = session.run(model, feed_dict={\n",
        "        x: train_dataset,\n",
        "    })\n",
        "\n",
        "    plt.plot(train_dataset, train_values, \"bo\",\n",
        "             train_dataset, train_values1, \"ro\")\n",
        "    plt.show()\n",
        "\n",
        "    with tf.variable_scope(\"hidden\", reuse=True):\n",
        "        w = tf.get_variable(\"kernel\")\n",
        "        b = tf.get_variable(\"bias\")\n",
        "        print(\"hidden:\")\n",
        "        print(\"kernel=\", w.eval())\n",
        "        print(\"bias = \", b.eval())\n",
        "\n",
        "    with tf.variable_scope(\"output\", reuse=True):\n",
        "        w = tf.get_variable(\"kernel\")\n",
        "        b = tf.get_variable(\"bias\")\n",
        "        print(\"output:\")\n",
        "        print(\"kernel=\", w.eval())\n",
        "        print(\"bias = \", b.eval())"
      ],
      "attachments":{
        
      },
      "execution_count":1,
      "outputs":[
        {
          "name":"stdout",
          "text":[
            "WARNING:tensorflow:From \/opt\/python\/envs\/default\/lib\/python3.8\/site-packages\/tensorflow\/python\/compat\/v2_compat.py:96: disable_resource_variables (from tensorflow.python.ops.variable_scope) is deprecated and will be removed in a future version.\n",
            "Instructions for updating:\n",
            "non-resource variables are not supported in the long term\n",
            "cost = 4546.876953125\n",
            "cost = 136.92117309570312\n",
            "cost = 419.9450988769531\n",
            "cost = 3987.630615234375\n",
            "cost = 5047.37939453125\n",
            "cost = 844.0733032226562\n",
            "cost = 4200.4072265625\n",
            "cost = 4923.060546875\n",
            "cost = 115.3636474609375\n",
            "cost = 537.3272094726562\n",
            "hidden:\n",
            "kernel= [[-3.0472653  -0.38571995  0.45210737  0.30218372 -0.21493123  0.26392472\n",
            "   0.05442933  0.5480888 ]]\n",
            "bias =  [ -2.7659247  -7.9620123 -27.99678   -19.83065    -8.97695   -22.432613\n",
            " -21.870853  -28.54159  ]\n",
            "output:\n",
            "kernel= [[ -1.6101663 ]\n",
            " [ -3.976507  ]\n",
            " [ -0.61993   ]\n",
            " [  0.49597013]\n",
            " [  1.3745569 ]\n",
            " [  0.36113274]\n",
            " [-68.44214   ]\n",
            " [  0.42301795]]\n",
            "bias =  [-0.60287696]\n"
          ],
          "output_type":"stream"
        },
        {
          "name":"stderr",
          "text":[
            "\/opt\/python\/envs\/default\/lib\/python3.8\/site-packages\/tensorflow\/python\/keras\/legacy_tf_layers\/core.py:171: UserWarning: `tf.layers.dense` is deprecated and will be removed in a future version. Please use `tf.keras.layers.Dense` instead.\n",
            "  warnings.warn('`tf.layers.dense` is deprecated and '\n",
            "\/opt\/python\/envs\/default\/lib\/python3.8\/site-packages\/tensorflow\/python\/keras\/engine\/base_layer_v1.py:1692: UserWarning: `layer.apply` is deprecated and will be removed in a future version. Please use `layer.__call__` method instead.\n",
            "  warnings.warn('`layer.apply` is deprecated and '\n"
          ],
          "output_type":"stream"
        },
        {
          "data":{
            "image\/png":"[encoded data removed]"
          },
          "metadata":{
            "image\/png":{
              "width":0,
              "height":0
            }
          },
          "output_type":"display_data"
        }
      ],
      "metadata":{
        
      }
    }
  ],
  "metadata":{
    
  },
  "nbformat":4,
  "nbformat_minor":0
}