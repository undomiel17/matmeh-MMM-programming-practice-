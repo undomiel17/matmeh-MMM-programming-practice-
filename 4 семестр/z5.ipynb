{
  "cells":[
    {
      "cell_type":"code",
      "source":[
        "import numpy as np\n",
        "import pandas as pd\n",
        "from pandas import read_csv\n",
        "dataset = read_csv('data.csv',';')\n",
        "dataset = dataset.drop(['Unnamed: 10','Unnamed: 11'], axis=1)\n",
        "dataset.head()"
      ],
      "attachments":{
        
      },
      "execution_count":28,
      "outputs":[
        {
          "data":{
            "text\/html":[
              "<div>\n",
              "<style scoped>\n",
              "    .dataframe tbody tr th:only-of-type {\n",
              "        vertical-align: middle;\n",
              "    }\n",
              "\n",
              "    .dataframe tbody tr th {\n",
              "        vertical-align: top;\n",
              "    }\n",
              "\n",
              "    .dataframe thead th {\n",
              "        text-align: right;\n",
              "    }\n",
              "<\/style>\n",
              "<table border=\"1\" class=\"dataframe\">\n",
              "  <thead>\n",
              "    <tr style=\"text-align: right;\">\n",
              "      <th><\/th>\n",
              "      <th>X1<\/th>\n",
              "      <th>X2<\/th>\n",
              "      <th>X3<\/th>\n",
              "      <th>X4<\/th>\n",
              "      <th>X5<\/th>\n",
              "      <th>X6<\/th>\n",
              "      <th>X7<\/th>\n",
              "      <th>X8<\/th>\n",
              "      <th>Y1<\/th>\n",
              "      <th>Y2<\/th>\n",
              "    <\/tr>\n",
              "  <\/thead>\n",
              "  <tbody>\n",
              "    <tr>\n",
              "      <th>0<\/th>\n",
              "      <td>0.98<\/td>\n",
              "      <td>514.5<\/td>\n",
              "      <td>294.0<\/td>\n",
              "      <td>110.25<\/td>\n",
              "      <td>7.0<\/td>\n",
              "      <td>2<\/td>\n",
              "      <td>0.0<\/td>\n",
              "      <td>0<\/td>\n",
              "      <td>15.55<\/td>\n",
              "      <td>21.33<\/td>\n",
              "    <\/tr>\n",
              "    <tr>\n",
              "      <th>1<\/th>\n",
              "      <td>0.98<\/td>\n",
              "      <td>514.5<\/td>\n",
              "      <td>294.0<\/td>\n",
              "      <td>110.25<\/td>\n",
              "      <td>7.0<\/td>\n",
              "      <td>3<\/td>\n",
              "      <td>0.0<\/td>\n",
              "      <td>0<\/td>\n",
              "      <td>15.55<\/td>\n",
              "      <td>21.33<\/td>\n",
              "    <\/tr>\n",
              "    <tr>\n",
              "      <th>2<\/th>\n",
              "      <td>0.98<\/td>\n",
              "      <td>514.5<\/td>\n",
              "      <td>294.0<\/td>\n",
              "      <td>110.25<\/td>\n",
              "      <td>7.0<\/td>\n",
              "      <td>4<\/td>\n",
              "      <td>0.0<\/td>\n",
              "      <td>0<\/td>\n",
              "      <td>15.55<\/td>\n",
              "      <td>21.33<\/td>\n",
              "    <\/tr>\n",
              "    <tr>\n",
              "      <th>3<\/th>\n",
              "      <td>0.98<\/td>\n",
              "      <td>514.5<\/td>\n",
              "      <td>294.0<\/td>\n",
              "      <td>110.25<\/td>\n",
              "      <td>7.0<\/td>\n",
              "      <td>5<\/td>\n",
              "      <td>0.0<\/td>\n",
              "      <td>0<\/td>\n",
              "      <td>15.55<\/td>\n",
              "      <td>21.33<\/td>\n",
              "    <\/tr>\n",
              "    <tr>\n",
              "      <th>4<\/th>\n",
              "      <td>0.90<\/td>\n",
              "      <td>563.5<\/td>\n",
              "      <td>318.5<\/td>\n",
              "      <td>122.50<\/td>\n",
              "      <td>7.0<\/td>\n",
              "      <td>2<\/td>\n",
              "      <td>0.0<\/td>\n",
              "      <td>0<\/td>\n",
              "      <td>20.84<\/td>\n",
              "      <td>28.28<\/td>\n",
              "    <\/tr>\n",
              "  <\/tbody>\n",
              "<\/table>\n",
              "<\/div>"
            ]
          },
          "metadata":{
            
          },
          "output_type":"display_data"
        }
      ],
      "metadata":{
        
      }
    },
    {
      "cell_type":"code",
      "source":[
        "dataset.corr(method='pearson') "
      ],
      "attachments":{
        
      },
      "execution_count":29,
      "outputs":[
        {
          "data":{
            "text\/html":[
              "<div>\n",
              "<style scoped>\n",
              "    .dataframe tbody tr th:only-of-type {\n",
              "        vertical-align: middle;\n",
              "    }\n",
              "\n",
              "    .dataframe tbody tr th {\n",
              "        vertical-align: top;\n",
              "    }\n",
              "\n",
              "    .dataframe thead th {\n",
              "        text-align: right;\n",
              "    }\n",
              "<\/style>\n",
              "<table border=\"1\" class=\"dataframe\">\n",
              "  <thead>\n",
              "    <tr style=\"text-align: right;\">\n",
              "      <th><\/th>\n",
              "      <th>X1<\/th>\n",
              "      <th>X2<\/th>\n",
              "      <th>X3<\/th>\n",
              "      <th>X4<\/th>\n",
              "      <th>X5<\/th>\n",
              "      <th>X6<\/th>\n",
              "      <th>X7<\/th>\n",
              "      <th>X8<\/th>\n",
              "      <th>Y1<\/th>\n",
              "      <th>Y2<\/th>\n",
              "    <\/tr>\n",
              "  <\/thead>\n",
              "  <tbody>\n",
              "    <tr>\n",
              "      <th>X1<\/th>\n",
              "      <td>1.000000e+00<\/td>\n",
              "      <td>-9.919015e-01<\/td>\n",
              "      <td>-2.037817e-01<\/td>\n",
              "      <td>-8.688234e-01<\/td>\n",
              "      <td>8.277473e-01<\/td>\n",
              "      <td>4.678592e-17<\/td>\n",
              "      <td>-2.960552e-15<\/td>\n",
              "      <td>-7.107006e-16<\/td>\n",
              "      <td>0.622272<\/td>\n",
              "      <td>0.634339<\/td>\n",
              "    <\/tr>\n",
              "    <tr>\n",
              "      <th>X2<\/th>\n",
              "      <td>-9.919015e-01<\/td>\n",
              "      <td>1.000000e+00<\/td>\n",
              "      <td>1.955016e-01<\/td>\n",
              "      <td>8.807195e-01<\/td>\n",
              "      <td>-8.581477e-01<\/td>\n",
              "      <td>-3.459372e-17<\/td>\n",
              "      <td>3.636925e-15<\/td>\n",
              "      <td>2.438409e-15<\/td>\n",
              "      <td>-0.658120<\/td>\n",
              "      <td>-0.672999<\/td>\n",
              "    <\/tr>\n",
              "    <tr>\n",
              "      <th>X3<\/th>\n",
              "      <td>-2.037817e-01<\/td>\n",
              "      <td>1.955016e-01<\/td>\n",
              "      <td>1.000000e+00<\/td>\n",
              "      <td>-2.923165e-01<\/td>\n",
              "      <td>2.809757e-01<\/td>\n",
              "      <td>-2.429499e-17<\/td>\n",
              "      <td>-8.567455e-17<\/td>\n",
              "      <td>2.067384e-16<\/td>\n",
              "      <td>0.455671<\/td>\n",
              "      <td>0.427117<\/td>\n",
              "    <\/tr>\n",
              "    <tr>\n",
              "      <th>X4<\/th>\n",
              "      <td>-8.688234e-01<\/td>\n",
              "      <td>8.807195e-01<\/td>\n",
              "      <td>-2.923165e-01<\/td>\n",
              "      <td>1.000000e+00<\/td>\n",
              "      <td>-9.725122e-01<\/td>\n",
              "      <td>-5.830058e-17<\/td>\n",
              "      <td>-1.759011e-15<\/td>\n",
              "      <td>-1.078071e-15<\/td>\n",
              "      <td>-0.861828<\/td>\n",
              "      <td>-0.862547<\/td>\n",
              "    <\/tr>\n",
              "    <tr>\n",
              "      <th>X5<\/th>\n",
              "      <td>8.277473e-01<\/td>\n",
              "      <td>-8.581477e-01<\/td>\n",
              "      <td>2.809757e-01<\/td>\n",
              "      <td>-9.725122e-01<\/td>\n",
              "      <td>1.000000e+00<\/td>\n",
              "      <td>4.492205e-17<\/td>\n",
              "      <td>1.489134e-17<\/td>\n",
              "      <td>-2.920613e-17<\/td>\n",
              "      <td>0.889431<\/td>\n",
              "      <td>0.895785<\/td>\n",
              "    <\/tr>\n",
              "    <tr>\n",
              "      <th>X6<\/th>\n",
              "      <td>4.678592e-17<\/td>\n",
              "      <td>-3.459372e-17<\/td>\n",
              "      <td>-2.429499e-17<\/td>\n",
              "      <td>-5.830058e-17<\/td>\n",
              "      <td>4.492205e-17<\/td>\n",
              "      <td>1.000000e+00<\/td>\n",
              "      <td>-9.406007e-16<\/td>\n",
              "      <td>-2.549352e-16<\/td>\n",
              "      <td>-0.002587<\/td>\n",
              "      <td>0.014290<\/td>\n",
              "    <\/tr>\n",
              "    <tr>\n",
              "      <th>X7<\/th>\n",
              "      <td>-2.960552e-15<\/td>\n",
              "      <td>3.636925e-15<\/td>\n",
              "      <td>-8.567455e-17<\/td>\n",
              "      <td>-1.759011e-15<\/td>\n",
              "      <td>1.489134e-17<\/td>\n",
              "      <td>-9.406007e-16<\/td>\n",
              "      <td>1.000000e+00<\/td>\n",
              "      <td>2.129642e-01<\/td>\n",
              "      <td>0.269841<\/td>\n",
              "      <td>0.207505<\/td>\n",
              "    <\/tr>\n",
              "    <tr>\n",
              "      <th>X8<\/th>\n",
              "      <td>-7.107006e-16<\/td>\n",
              "      <td>2.438409e-15<\/td>\n",
              "      <td>2.067384e-16<\/td>\n",
              "      <td>-1.078071e-15<\/td>\n",
              "      <td>-2.920613e-17<\/td>\n",
              "      <td>-2.549352e-16<\/td>\n",
              "      <td>2.129642e-01<\/td>\n",
              "      <td>1.000000e+00<\/td>\n",
              "      <td>0.087368<\/td>\n",
              "      <td>0.050525<\/td>\n",
              "    <\/tr>\n",
              "    <tr>\n",
              "      <th>Y1<\/th>\n",
              "      <td>6.222722e-01<\/td>\n",
              "      <td>-6.581202e-01<\/td>\n",
              "      <td>4.556712e-01<\/td>\n",
              "      <td>-8.618283e-01<\/td>\n",
              "      <td>8.894307e-01<\/td>\n",
              "      <td>-2.586534e-03<\/td>\n",
              "      <td>2.698410e-01<\/td>\n",
              "      <td>8.736759e-02<\/td>\n",
              "      <td>1.000000<\/td>\n",
              "      <td>0.975862<\/td>\n",
              "    <\/tr>\n",
              "    <tr>\n",
              "      <th>Y2<\/th>\n",
              "      <td>6.343391e-01<\/td>\n",
              "      <td>-6.729989e-01<\/td>\n",
              "      <td>4.271170e-01<\/td>\n",
              "      <td>-8.625466e-01<\/td>\n",
              "      <td>8.957852e-01<\/td>\n",
              "      <td>1.428960e-02<\/td>\n",
              "      <td>2.075050e-01<\/td>\n",
              "      <td>5.052512e-02<\/td>\n",
              "      <td>0.975862<\/td>\n",
              "      <td>1.000000<\/td>\n",
              "    <\/tr>\n",
              "  <\/tbody>\n",
              "<\/table>\n",
              "<\/div>"
            ]
          },
          "metadata":{
            
          },
          "output_type":"display_data"
        }
      ],
      "metadata":{
        
      }
    },
    {
      "cell_type":"code",
      "source":[
        "# k_corr>95% x1 <-> x2 x4 <-> x5 y1 <-> y2\n",
        "# k_corr(x4,y) < k_corr(x5,y) k_corr(x1,y) < k_corr(x2,y) \n",
        "# can pay no attention to x1, x4\n",
        "dataset = dataset.drop(['X1','X4'], axis=1)\n",
        "dataset.head()"
      ],
      "attachments":{
        
      },
      "execution_count":30,
      "outputs":[
        {
          "data":{
            "text\/html":[
              "<div>\n",
              "<style scoped>\n",
              "    .dataframe tbody tr th:only-of-type {\n",
              "        vertical-align: middle;\n",
              "    }\n",
              "\n",
              "    .dataframe tbody tr th {\n",
              "        vertical-align: top;\n",
              "    }\n",
              "\n",
              "    .dataframe thead th {\n",
              "        text-align: right;\n",
              "    }\n",
              "<\/style>\n",
              "<table border=\"1\" class=\"dataframe\">\n",
              "  <thead>\n",
              "    <tr style=\"text-align: right;\">\n",
              "      <th><\/th>\n",
              "      <th>X2<\/th>\n",
              "      <th>X3<\/th>\n",
              "      <th>X5<\/th>\n",
              "      <th>X6<\/th>\n",
              "      <th>X7<\/th>\n",
              "      <th>X8<\/th>\n",
              "      <th>Y1<\/th>\n",
              "      <th>Y2<\/th>\n",
              "    <\/tr>\n",
              "  <\/thead>\n",
              "  <tbody>\n",
              "    <tr>\n",
              "      <th>0<\/th>\n",
              "      <td>514.5<\/td>\n",
              "      <td>294.0<\/td>\n",
              "      <td>7.0<\/td>\n",
              "      <td>2<\/td>\n",
              "      <td>0.0<\/td>\n",
              "      <td>0<\/td>\n",
              "      <td>15.55<\/td>\n",
              "      <td>21.33<\/td>\n",
              "    <\/tr>\n",
              "    <tr>\n",
              "      <th>1<\/th>\n",
              "      <td>514.5<\/td>\n",
              "      <td>294.0<\/td>\n",
              "      <td>7.0<\/td>\n",
              "      <td>3<\/td>\n",
              "      <td>0.0<\/td>\n",
              "      <td>0<\/td>\n",
              "      <td>15.55<\/td>\n",
              "      <td>21.33<\/td>\n",
              "    <\/tr>\n",
              "    <tr>\n",
              "      <th>2<\/th>\n",
              "      <td>514.5<\/td>\n",
              "      <td>294.0<\/td>\n",
              "      <td>7.0<\/td>\n",
              "      <td>4<\/td>\n",
              "      <td>0.0<\/td>\n",
              "      <td>0<\/td>\n",
              "      <td>15.55<\/td>\n",
              "      <td>21.33<\/td>\n",
              "    <\/tr>\n",
              "    <tr>\n",
              "      <th>3<\/th>\n",
              "      <td>514.5<\/td>\n",
              "      <td>294.0<\/td>\n",
              "      <td>7.0<\/td>\n",
              "      <td>5<\/td>\n",
              "      <td>0.0<\/td>\n",
              "      <td>0<\/td>\n",
              "      <td>15.55<\/td>\n",
              "      <td>21.33<\/td>\n",
              "    <\/tr>\n",
              "    <tr>\n",
              "      <th>4<\/th>\n",
              "      <td>563.5<\/td>\n",
              "      <td>318.5<\/td>\n",
              "      <td>7.0<\/td>\n",
              "      <td>2<\/td>\n",
              "      <td>0.0<\/td>\n",
              "      <td>0<\/td>\n",
              "      <td>20.84<\/td>\n",
              "      <td>28.28<\/td>\n",
              "    <\/tr>\n",
              "  <\/tbody>\n",
              "<\/table>\n",
              "<\/div>"
            ]
          },
          "metadata":{
            
          },
          "output_type":"display_data"
        }
      ],
      "metadata":{
        
      }
    },
    {
      "cell_type":"code",
      "source":[
        "target = dataset[['Y1','Y2']]\n",
        "features = dataset.drop(['Y1','Y2'], axis=1)"
      ],
      "attachments":{
        
      },
      "execution_count":31,
      "outputs":[
        
      ],
      "metadata":{
        
      }
    },
    {
      "cell_type":"code",
      "source":[
        "from sklearn.linear_model import LinearRegression\n",
        "slr = LinearRegression()\n",
        "slr.fit(features, target) \n",
        "print('interect = ', slr.intercept_) #b0\n",
        "print('coef = ', slr.coef_) #b1 for x[i]"
      ],
      "attachments":{
        
      },
      "execution_count":32,
      "outputs":[
        {
          "name":"stdout",
          "text":[
            "interect =  [-33.99086431 -31.71543496]\n",
            "coef =  [[ 1.53836106e-02  3.69448743e-02  5.53040787e+00 -2.33281250e-02\n",
            "   1.99326802e+01  2.03771772e-01]\n",
            " [ 2.39613302e-02  1.85976539e-02  5.77062039e+00  1.21510417e-01\n",
            "   1.47170683e+01  4.06972598e-02]]\n"
          ],
          "output_type":"stream"
        }
      ],
      "metadata":{
        
      }
    },
    {
      "cell_type":"code",
      "source":[
        "target1 = dataset['Y1']\n",
        "slr1 = LinearRegression()\n",
        "slr1.fit(features, target1) \n",
        "print('interect = ', slr1.intercept_) #b0\n",
        "print('coef = ', slr1.coef_) #b1 for x[i]\n",
        "\n",
        "target2 = dataset['Y2']\n",
        "slr2 = LinearRegression()\n",
        "slr2.fit(features, target2) \n",
        "print('interect = ', slr2.intercept_) #b0\n",
        "print('coef = ', slr2.coef_) #b1 for x[i]"
      ],
      "attachments":{
        
      },
      "execution_count":33,
      "outputs":[
        {
          "name":"stdout",
          "text":[
            "interect =  -33.990864310821735\n",
            "coef =  [ 1.53836106e-02  3.69448743e-02  5.53040787e+00 -2.33281250e-02\n",
            "  1.99326802e+01  2.03771772e-01]\n",
            "interect =  -31.715434961438554\n",
            "coef =  [ 0.02396133  0.01859765  5.77062039  0.12151042 14.71706832  0.04069726]\n"
          ],
          "output_type":"stream"
        }
      ],
      "metadata":{
        
      }
    },
    {
      "cell_type":"code",
      "source":[
        "#trying to decomposition to flat situation\n",
        "from sklearn import decomposition\n",
        "pca = decomposition.PCA(n_components=1)\n",
        "pca.fit(features)\n",
        "dec_features = pca.transform(features)\n",
        "pca.fit(target)\n",
        "dec_target = pca.transform(target)\n",
        "print(dec_target.shape[0])"
      ],
      "attachments":{
        
      },
      "execution_count":34,
      "outputs":[
        {
          "name":"stdout",
          "text":[
            "768\n"
          ],
          "output_type":"stream"
        }
      ],
      "metadata":{
        
      }
    },
    {
      "cell_type":"code",
      "source":[
        "import matplotlib.pyplot as plt\n",
        "dec_slr = LinearRegression()\n",
        "dec_slr.fit(dec_features, dec_target) \n",
        "print('interect = ', dec_slr.intercept_) #b0\n",
        "print('coef = ', dec_slr.coef_) #b1 for x[i]\n",
        "#pic1\n",
        "plt.scatter(dec_features, dec_target)\n",
        "plt.plot(dec_features, dec_slr.predict(dec_features), color='red', linewidth=2);"
      ],
      "attachments":{
        
      },
      "execution_count":35,
      "outputs":[
        {
          "name":"stdout",
          "text":[
            "interect =  [-5.1864073e-15]\n",
            "coef =  [[0.09837613]]\n"
          ],
          "output_type":"stream"
        },
        {
          "data":{
            "image\/png":"[encoded data removed]"
          },
          "metadata":{
            "image\/png":{
              "width":0,
              "height":0
            }
          },
          "output_type":"display_data"
        }
      ],
      "metadata":{
        
      }
    },
    {
      "cell_type":"code",
      "source":[
        "X = dataset[['X2']]"
      ],
      "attachments":{
        
      },
      "execution_count":36,
      "outputs":[
        
      ],
      "metadata":{
        
      }
    },
    {
      "cell_type":"code",
      "source":[
        "import matplotlib.pyplot as plt\n",
        "Y1_slr = LinearRegression()\n",
        "Y1_slr.fit(X, target1) \n",
        "print('interect = ', Y1_slr.intercept_) #b0\n",
        "print('coef = ', Y1_slr.coef_) #b1 for x[i]\n",
        "#pic2\n",
        "plt.scatter(X, target1)\n",
        "plt.plot(X, Y1_slr.predict(X), color='red', linewidth=2);"
      ],
      "attachments":{
        
      },
      "execution_count":37,
      "outputs":[
        {
          "name":"stdout",
          "text":[
            "interect =  72.94538243006991\n",
            "coef =  [-0.07538716]\n"
          ],
          "output_type":"stream"
        },
        {
          "data":{
            "image\/png":"[encoded data removed]"
          },
          "metadata":{
            "image\/png":{
              "width":0,
              "height":0
            }
          },
          "output_type":"display_data"
        }
      ],
      "metadata":{
        
      }
    },
    {
      "cell_type":"code",
      "source":[
        "from sklearn.model_selection import train_test_split\n",
        "X_train, X_test, y_train, y_test = train_test_split( X, target1, test_size=0.2, random_state=0)\n",
        "slr = LinearRegression()\n",
        "slr.fit(X_train, y_train)\n",
        "y_train_pred = slr.predict(X_train)\n",
        "y_test_pred = slr.predict(X_test)\n",
        "\n",
        "from sklearn.metrics import mean_absolute_error, mean_squared_error, median_absolute_error, r2_score\n",
        "\n",
        "print('MSE train: {:.3f}, test: {:.3f}'.format(\n",
        "        mean_squared_error(y_train, y_train_pred),\n",
        "        mean_squared_error(y_test, y_test_pred)))\n",
        "print('R^2 train: {:.3f}, test: {:.3f}'.format(\n",
        "        r2_score(y_train, y_train_pred),\n",
        "        r2_score(y_test, y_test_pred)))"
      ],
      "attachments":{
        
      },
      "execution_count":38,
      "outputs":[
        {
          "name":"stdout",
          "text":[
            "MSE train: 54.498, test: 70.192\n",
            "R^2 train: 0.452, test: 0.364\n"
          ],
          "output_type":"stream"
        }
      ],
      "metadata":{
        
      }
    },
    {
      "cell_type":"code",
      "source":[
        "#pic3\n",
        "plt.scatter(y_train_pred,  y_train_pred - y_train,\n",
        "            c='blue', marker='o', label='Training data')\n",
        "plt.scatter(y_test_pred,  y_test_pred - y_test,\n",
        "            c='lightgreen', marker='s', label='Test data')\n",
        "plt.xlabel('Predicted values')\n",
        "plt.ylabel('Residuals')\n",
        "plt.legend(loc='upper left')\n",
        "plt.hlines(y=0, xmin=10, xmax=40, lw=2, color='red')\n",
        "plt.xlim([10, 40])\n",
        "plt.tight_layout()"
      ],
      "attachments":{
        
      },
      "execution_count":39,
      "outputs":[
        {
          "data":{
            "image\/png":"[encoded data removed]"
          },
          "metadata":{
            "image\/png":{
              "width":0,
              "height":0
            }
          },
          "output_type":"display_data"
        }
      ],
      "metadata":{
        
      }
    },
    {
      "cell_type":"code",
      "source":[
        "import statsmodels.api as sml\n",
        "from statsmodels import tools\n",
        "\n",
        "features_new = tools.add_constant(features)\n",
        "\n",
        "regressor_OLS = sml.OLS(endog = target1,exog =  features_new).fit()\n",
        "\n",
        "regressor_OLS.summary()"
      ],
      "attachments":{
        
      },
      "execution_count":40,
      "outputs":[
        {
          "data":{
            "text\/html":[
              "<table class=\"simpletable\">\n",
              "<caption>OLS Regression Results<\/caption>\n",
              "<tr>\n",
              "  <th>Dep. Variable:<\/th>           <td>Y1<\/td>        <th>  R-squared:         <\/th> <td>   0.912<\/td>\n",
              "<\/tr>\n",
              "<tr>\n",
              "  <th>Model:<\/th>                   <td>OLS<\/td>       <th>  Adj. R-squared:    <\/th> <td>   0.911<\/td>\n",
              "<\/tr>\n",
              "<tr>\n",
              "  <th>Method:<\/th>             <td>Least Squares<\/td>  <th>  F-statistic:       <\/th> <td>   1312.<\/td>\n",
              "<\/tr>\n",
              "<tr>\n",
              "  <th>Date:<\/th>             <td>Wed, 09 Jun 2021<\/td> <th>  Prob (F-statistic):<\/th>  <td>  0.00<\/td> \n",
              "<\/tr>\n",
              "<tr>\n",
              "  <th>Time:<\/th>                 <td>18:17:39<\/td>     <th>  Log-Likelihood:    <\/th> <td> -1932.0<\/td>\n",
              "<\/tr>\n",
              "<tr>\n",
              "  <th>No. Observations:<\/th>      <td>   768<\/td>      <th>  AIC:               <\/th> <td>   3878.<\/td>\n",
              "<\/tr>\n",
              "<tr>\n",
              "  <th>Df Residuals:<\/th>          <td>   761<\/td>      <th>  BIC:               <\/th> <td>   3910.<\/td>\n",
              "<\/tr>\n",
              "<tr>\n",
              "  <th>Df Model:<\/th>              <td>     6<\/td>      <th>                     <\/th>     <td> <\/td>   \n",
              "<\/tr>\n",
              "<tr>\n",
              "  <th>Covariance Type:<\/th>      <td>nonrobust<\/td>    <th>                     <\/th>     <td> <\/td>   \n",
              "<\/tr>\n",
              "<\/table>\n",
              "<table class=\"simpletable\">\n",
              "<tr>\n",
              "    <td><\/td>       <th>coef<\/th>     <th>std err<\/th>      <th>t<\/th>      <th>P>|t|<\/th>  <th>[0.025<\/th>    <th>0.975]<\/th>  \n",
              "<\/tr>\n",
              "<tr>\n",
              "  <th>const<\/th> <td>  -33.9909<\/td> <td>    3.383<\/td> <td>  -10.048<\/td> <td> 0.000<\/td> <td>  -40.632<\/td> <td>  -27.350<\/td>\n",
              "<\/tr>\n",
              "<tr>\n",
              "  <th>X2<\/th>    <td>    0.0154<\/td> <td>    0.005<\/td> <td>    2.968<\/td> <td> 0.003<\/td> <td>    0.005<\/td> <td>    0.026<\/td>\n",
              "<\/tr>\n",
              "<tr>\n",
              "  <th>X3<\/th>    <td>    0.0369<\/td> <td>    0.006<\/td> <td>    6.600<\/td> <td> 0.000<\/td> <td>    0.026<\/td> <td>    0.048<\/td>\n",
              "<\/tr>\n",
              "<tr>\n",
              "  <th>X5<\/th>    <td>    5.5304<\/td> <td>    0.266<\/td> <td>   20.761<\/td> <td> 0.000<\/td> <td>    5.007<\/td> <td>    6.053<\/td>\n",
              "<\/tr>\n",
              "<tr>\n",
              "  <th>X6<\/th>    <td>   -0.0233<\/td> <td>    0.097<\/td> <td>   -0.240<\/td> <td> 0.810<\/td> <td>   -0.214<\/td> <td>    0.167<\/td>\n",
              "<\/tr>\n",
              "<tr>\n",
              "  <th>X7<\/th>    <td>   19.9327<\/td> <td>    0.834<\/td> <td>   23.889<\/td> <td> 0.000<\/td> <td>   18.295<\/td> <td>   21.571<\/td>\n",
              "<\/tr>\n",
              "<tr>\n",
              "  <th>X8<\/th>    <td>    0.2038<\/td> <td>    0.072<\/td> <td>    2.843<\/td> <td> 0.005<\/td> <td>    0.063<\/td> <td>    0.344<\/td>\n",
              "<\/tr>\n",
              "<\/table>\n",
              "<table class=\"simpletable\">\n",
              "<tr>\n",
              "  <th>Omnibus:<\/th>       <td>12.447<\/td> <th>  Durbin-Watson:     <\/th> <td>   0.586<\/td>\n",
              "<\/tr>\n",
              "<tr>\n",
              "  <th>Prob(Omnibus):<\/th> <td> 0.002<\/td> <th>  Jarque-Bera (JB):  <\/th> <td>  20.499<\/td>\n",
              "<\/tr>\n",
              "<tr>\n",
              "  <th>Skew:<\/th>          <td> 0.065<\/td> <th>  Prob(JB):          <\/th> <td>3.54e-05<\/td>\n",
              "<\/tr>\n",
              "<tr>\n",
              "  <th>Kurtosis:<\/th>      <td> 3.790<\/td> <th>  Cond. No.          <\/th> <td>2.34e+04<\/td>\n",
              "<\/tr>\n",
              "<\/table><br\/><br\/>Notes:<br\/>[1] Standard Errors assume that the covariance matrix of the errors is correctly specified.<br\/>[2] The condition number is large, 2.34e+04. This might indicate that there are<br\/>strong multicollinearity or other numerical problems."
            ]
          },
          "metadata":{
            
          },
          "output_type":"display_data"
        }
      ],
      "metadata":{
        
      }
    },
    {
      "cell_type":"code",
      "source":[
        "import statsmodels.api as sml\n",
        "from statsmodels import tools\n",
        "\n",
        "features_new = tools.add_constant(features)\n",
        "\n",
        "regressor_OLS = sml.OLS(endog = target2,exog =  features_new).fit()\n",
        "\n",
        "regressor_OLS.summary()"
      ],
      "attachments":{
        
      },
      "execution_count":41,
      "outputs":[
        {
          "data":{
            "text\/html":[
              "<table class=\"simpletable\">\n",
              "<caption>OLS Regression Results<\/caption>\n",
              "<tr>\n",
              "  <th>Dep. Variable:<\/th>           <td>Y2<\/td>        <th>  R-squared:         <\/th> <td>   0.882<\/td>\n",
              "<\/tr>\n",
              "<tr>\n",
              "  <th>Model:<\/th>                   <td>OLS<\/td>       <th>  Adj. R-squared:    <\/th> <td>   0.881<\/td>\n",
              "<\/tr>\n",
              "<tr>\n",
              "  <th>Method:<\/th>             <td>Least Squares<\/td>  <th>  F-statistic:       <\/th> <td>   947.4<\/td>\n",
              "<\/tr>\n",
              "<tr>\n",
              "  <th>Date:<\/th>             <td>Wed, 09 Jun 2021<\/td> <th>  Prob (F-statistic):<\/th>  <td>  0.00<\/td> \n",
              "<\/tr>\n",
              "<tr>\n",
              "  <th>Time:<\/th>                 <td>18:17:39<\/td>     <th>  Log-Likelihood:    <\/th> <td> -1998.9<\/td>\n",
              "<\/tr>\n",
              "<tr>\n",
              "  <th>No. Observations:<\/th>      <td>   768<\/td>      <th>  AIC:               <\/th> <td>   4012.<\/td>\n",
              "<\/tr>\n",
              "<tr>\n",
              "  <th>Df Residuals:<\/th>          <td>   761<\/td>      <th>  BIC:               <\/th> <td>   4044.<\/td>\n",
              "<\/tr>\n",
              "<tr>\n",
              "  <th>Df Model:<\/th>              <td>     6<\/td>      <th>                     <\/th>     <td> <\/td>   \n",
              "<\/tr>\n",
              "<tr>\n",
              "  <th>Covariance Type:<\/th>      <td>nonrobust<\/td>    <th>                     <\/th>     <td> <\/td>   \n",
              "<\/tr>\n",
              "<\/table>\n",
              "<table class=\"simpletable\">\n",
              "<tr>\n",
              "    <td><\/td>       <th>coef<\/th>     <th>std err<\/th>      <th>t<\/th>      <th>P>|t|<\/th>  <th>[0.025<\/th>    <th>0.975]<\/th>  \n",
              "<\/tr>\n",
              "<tr>\n",
              "  <th>const<\/th> <td>  -31.7154<\/td> <td>    3.691<\/td> <td>   -8.593<\/td> <td> 0.000<\/td> <td>  -38.961<\/td> <td>  -24.470<\/td>\n",
              "<\/tr>\n",
              "<tr>\n",
              "  <th>X2<\/th>    <td>    0.0240<\/td> <td>    0.006<\/td> <td>    4.238<\/td> <td> 0.000<\/td> <td>    0.013<\/td> <td>    0.035<\/td>\n",
              "<\/tr>\n",
              "<tr>\n",
              "  <th>X3<\/th>    <td>    0.0186<\/td> <td>    0.006<\/td> <td>    3.045<\/td> <td> 0.002<\/td> <td>    0.007<\/td> <td>    0.031<\/td>\n",
              "<\/tr>\n",
              "<tr>\n",
              "  <th>X5<\/th>    <td>    5.7706<\/td> <td>    0.291<\/td> <td>   19.855<\/td> <td> 0.000<\/td> <td>    5.200<\/td> <td>    6.341<\/td>\n",
              "<\/tr>\n",
              "<tr>\n",
              "  <th>X6<\/th>    <td>    0.1215<\/td> <td>    0.106<\/td> <td>    1.147<\/td> <td> 0.252<\/td> <td>   -0.086<\/td> <td>    0.329<\/td>\n",
              "<\/tr>\n",
              "<tr>\n",
              "  <th>X7<\/th>    <td>   14.7171<\/td> <td>    0.910<\/td> <td>   16.166<\/td> <td> 0.000<\/td> <td>   12.930<\/td> <td>   16.504<\/td>\n",
              "<\/tr>\n",
              "<tr>\n",
              "  <th>X8<\/th>    <td>    0.0407<\/td> <td>    0.078<\/td> <td>    0.520<\/td> <td> 0.603<\/td> <td>   -0.113<\/td> <td>    0.194<\/td>\n",
              "<\/tr>\n",
              "<\/table>\n",
              "<table class=\"simpletable\">\n",
              "<tr>\n",
              "  <th>Omnibus:<\/th>       <td>79.669<\/td> <th>  Durbin-Watson:     <\/th> <td>   1.009<\/td>\n",
              "<\/tr>\n",
              "<tr>\n",
              "  <th>Prob(Omnibus):<\/th> <td> 0.000<\/td> <th>  Jarque-Bera (JB):  <\/th> <td> 164.424<\/td>\n",
              "<\/tr>\n",
              "<tr>\n",
              "  <th>Skew:<\/th>          <td> 0.620<\/td> <th>  Prob(JB):          <\/th> <td>1.98e-36<\/td>\n",
              "<\/tr>\n",
              "<tr>\n",
              "  <th>Kurtosis:<\/th>      <td> 4.897<\/td> <th>  Cond. No.          <\/th> <td>2.34e+04<\/td>\n",
              "<\/tr>\n",
              "<\/table><br\/><br\/>Notes:<br\/>[1] Standard Errors assume that the covariance matrix of the errors is correctly specified.<br\/>[2] The condition number is large, 2.34e+04. This might indicate that there are<br\/>strong multicollinearity or other numerical problems."
            ]
          },
          "metadata":{
            
          },
          "output_type":"display_data"
        }
      ],
      "metadata":{
        
      }
    }
  ],
  "metadata":{
    
  },
  "nbformat":4,
  "nbformat_minor":0
}