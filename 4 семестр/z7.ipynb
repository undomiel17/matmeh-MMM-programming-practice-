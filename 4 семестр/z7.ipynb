{
  "cells":[
    {
      "cell_type":"code",
      "source":[
        "import numpy\n",
        "import ga\n",
        "\n",
        "\"\"\"\n",
        "The y=target is to maximize this equation ASAP:\n",
        "    y = w1x1+w2x2+w3x3+w4x4+w5x5+6wx6\n",
        "    where (x1,x2,x3,x4,x5,x6)=(5,-1,6.5,7,-13,-5.3)\n",
        "    best values for the 6 weights w1 to w6?\n",
        "\"\"\"\n",
        "\n",
        "equation_inputs = [5,-1,6.5,7,-13,-5.3]\n",
        "\n",
        "# Number of the weights\n",
        "num_weights = 6\n",
        "\n",
        "sol_per_pop = 8\n",
        "num_parents_mating = 4\n",
        "\n",
        "# Defining the population size.\n",
        "pop_size = (sol_per_pop,num_weights) # The population will have sol_per_pop chromosome where each chromosome has num_weights genes.\n",
        "#initial population.\n",
        "new_population = numpy.random.uniform(low=-4.0, high=4.0, size=pop_size)\n",
        "print(new_population)\n",
        "\n",
        "num_generations = 5\n",
        "for generation in range(num_generations):\n",
        "    #the fitness of each chromosome\n",
        "    fitness = ga.cal_pop_fitness(equation_inputs, new_population)\n",
        "\n",
        "    #the best parents\n",
        "    parents = ga.select_mating_pool(new_population, fitness, \n",
        "                                      num_parents_mating)\n",
        "\n",
        "    #next generation\n",
        "    offspring_crossover = ga.crossover(parents,\n",
        "                                       offspring_size=(pop_size[0]-parents.shape[0], num_weights))\n",
        "\n",
        "    #variations\n",
        "    offspring_mutation = ga.mutation(offspring_crossover)\n",
        "\n",
        "    #the new population based on the parents and offspring.\n",
        "    new_population[0:parents.shape[0], :] = parents\n",
        "    new_population[parents.shape[0]:, :] = offspring_mutation\n",
        "\n",
        "    print(\"Generation : \", generation)\n",
        "    # The best result in the current iteration.\n",
        "    print(\"Best result : \", numpy.max(numpy.sum(new_population*equation_inputs, axis=1)))\n",
        "\n",
        "# Getting the best solution after iterating finishing all generations.\n",
        "#At first, the fitness is calculated for each solution in the final generation.\n",
        "fitness = ga.cal_pop_fitness(equation_inputs, new_population)\n",
        "# Then return the index of that solution corresponding to the best fitness.\n",
        "best_match_idx = numpy.where(fitness == numpy.max(fitness))\n",
        "\n",
        "print(\"Best solution :\\n \", new_population[best_match_idx, :])\n",
        "print(\"Best solution fitness : \", fitness[best_match_idx])"
      ],
      "attachments":{
        
      },
      "execution_count":4,
      "outputs":[
        {
          "name":"stdout",
          "text":[
            "[[-2.88990074  0.20653899  2.1446852  -3.64889441  0.78643183  2.08221196]\n",
            " [-1.67471524  2.1540324   3.87381219  3.27553933 -0.62401266 -0.46630311]\n",
            " [ 3.06802627 -1.99423642 -2.67591203  0.4283014  -3.1146057  -2.50240049]\n",
            " [-3.74590407  3.06653056  2.11530595 -0.59416426  3.91129418 -1.94616184]\n",
            " [ 0.8875195   3.22821466  3.83900024  2.04927872 -0.18217826  0.87761676]\n",
            " [ 2.43680845  2.33313684 -3.91499296  0.4749967  -1.46660671  1.76166967]\n",
            " [ 1.49362811 -0.67930479 -1.35267208 -1.09333231 -0.1595174  -3.55746642]\n",
            " [ 1.69800063  2.78300626  0.79371612 -3.77111029 -3.67267603 -0.75800064]]\n",
            "Generation :  0\n",
            "Best result :  65.86018303390912\n",
            "Generation :  1\n",
            "Best result :  94.13688725933756\n",
            "Generation :  2\n",
            "Best result :  98.32721517423431\n",
            "Generation :  3\n",
            "Best result :  98.32721517423431\n",
            "Generation :  4\n",
            "Best result :  109.40942780274287\n",
            "Best solution :\n",
            "  [[[ 0.8875195   3.22821466  3.83900024  0.4283014  -5.152747\n",
            "   -2.50240049]]]\n",
            "Best solution fitness :  [109.4094278]\n"
          ],
          "output_type":"stream"
        }
      ],
      "metadata":{
        
      }
    }
  ],
  "metadata":{
    
  },
  "nbformat":4,
  "nbformat_minor":0
}