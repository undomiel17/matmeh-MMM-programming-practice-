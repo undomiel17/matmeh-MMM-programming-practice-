{
  "cells":[
    {
      "cell_type":"code",
      "source":[
        "import random as rn\n",
        "import numpy as np\n",
        "from numpy.random import choice as np_choice\n",
        "\n",
        "# функция для считывания входящих данных\n",
        "def read_input():\n",
        "    data = []\n",
        "    while True:\n",
        "        try:\n",
        "            line = input().split()\n",
        "        except EOFError:\n",
        "            break\n",
        "        data.append(line)\n",
        "    matrix = np.array(data, float)\n",
        "    return matrix\n",
        "\n",
        "class AntColony(object):\n",
        "    def __init__(self, distances, n_ants, n_best, n_iterations, decay, alpha=1, beta=1):\n",
        "        '''\n",
        "        # избавляемся от нулей в матрице\n",
        "        i = 0\n",
        "        j = 0\n",
        "        while i < len(distances):\n",
        "            while j < len(distances):\n",
        "                if distances[i][j] == 0:\n",
        "                    distances[i][j] = np.inf\n",
        "                    i += 1\n",
        "                    j += 1\n",
        "                else:\n",
        "                    continue\n",
        "        '''            \n",
        "        self.distances  = distances #матрица растояний\n",
        "        self.pheromone = np.ones(self.distances.shape) \/ len(distances) # данные о феромонах\n",
        "        self.all_inds = range(len(distances)) # список городов\n",
        "        self.n_ants = n_ants # колличество муравьев\n",
        "        self.n_best = n_best # колличество элитных муравьев\n",
        "        self.n_iterations = n_iterations # колличество итераций\n",
        "        self.decay = decay # испарения феромона\n",
        "        self.alpha = alpha\n",
        "        self.beta = beta\n",
        "\n",
        "    def run(self):\n",
        "        shortest_path = None\n",
        "        all_time_shortest_path = (\"placeholder\", np.inf)\n",
        "        for i in range(self.n_iterations):\n",
        "            all_paths = self.gen_all_paths()\n",
        "            self.spread_pheronome(all_paths, self.n_best, shortest_path=shortest_path)\n",
        "            shortest_path = min(all_paths, key=lambda x: x[1])\n",
        "            if shortest_path[1] < all_time_shortest_path[1]:\n",
        "                all_time_shortest_path = shortest_path\n",
        "            self.pheromone * self.decay\n",
        "        return all_time_shortest_path\n",
        "\n",
        "    def spread_pheronome(self, all_paths, n_best, shortest_path):\n",
        "        sorted_paths = sorted(all_paths, key=lambda x: x[1])\n",
        "        for path, dist in sorted_paths[:n_best]:\n",
        "            for move in path:\n",
        "                self.pheromone[move] += 1.0 \/ self.distances[move]\n",
        "\n",
        "    def gen_path_dist(self, path):\n",
        "        total_dist = 0\n",
        "        for ele in path:\n",
        "            total_dist += self.distances[ele]\n",
        "        return total_dist\n",
        "\n",
        "    def gen_all_paths(self):\n",
        "        all_paths = []\n",
        "        for i in range(self.n_ants):\n",
        "            path = self.gen_path(0)\n",
        "            all_paths.append((path, self.gen_path_dist(path)))\n",
        "        return all_paths\n",
        "\n",
        "    def gen_path(self, start):\n",
        "        path = []\n",
        "        visited = set()\n",
        "        visited.add(start)\n",
        "        prev = start\n",
        "        for i in range(len(self.distances) - 1):\n",
        "            move = self.pick_move(self.pheromone[prev], self.distances[prev], visited)\n",
        "            path.append((prev, move))\n",
        "            prev = move\n",
        "            visited.add(move)\n",
        "        path.append((prev, start)) # going back to where we started\n",
        "        return path\n",
        "\n",
        "    def pick_move(self, pheromone, dist, visited):\n",
        "        pheromone = np.copy(pheromone)\n",
        "        pheromone[list(visited)] = 0\n",
        "        row = pheromone ** self.alpha * (( 1.0 \/ dist) ** self.beta)\n",
        "        norm_row = row \/ row.sum()\n",
        "        move = np_choice(self.all_inds, 1, p=norm_row)[0]\n",
        "        return move\n",
        "\n"
      ],
      "attachments":{
        
      },
      "execution_count":1,
      "outputs":[
        
      ],
      "metadata":{
        
      }
    },
    {
      "cell_type":"code",
      "source":[
        "#distance=read_input()\n",
        "#distance depends on direction\n",
        "from pandas import read_csv\n",
        "dataset = read_csv('data.csv',';')\n",
        "dataset.head(7)"
      ],
      "attachments":{
        
      },
      "execution_count":2,
      "outputs":[
        {
          "data":{
            "text\/html":[
              "<div>\n",
              "<style scoped>\n",
              "    .dataframe tbody tr th:only-of-type {\n",
              "        vertical-align: middle;\n",
              "    }\n",
              "\n",
              "    .dataframe tbody tr th {\n",
              "        vertical-align: top;\n",
              "    }\n",
              "\n",
              "    .dataframe thead th {\n",
              "        text-align: right;\n",
              "    }\n",
              "<\/style>\n",
              "<table border=\"1\" class=\"dataframe\">\n",
              "  <thead>\n",
              "    <tr style=\"text-align: right;\">\n",
              "      <th><\/th>\n",
              "      <th>x1<\/th>\n",
              "      <th>x2<\/th>\n",
              "      <th>x3<\/th>\n",
              "      <th>x4<\/th>\n",
              "      <th>x5<\/th>\n",
              "      <th>x6<\/th>\n",
              "    <\/tr>\n",
              "  <\/thead>\n",
              "  <tbody>\n",
              "    <tr>\n",
              "      <th>0<\/th>\n",
              "      <td>88.4<\/td>\n",
              "      <td>98.1<\/td>\n",
              "      <td>73.3<\/td>\n",
              "      <td>35.5<\/td>\n",
              "      <td>5.1<\/td>\n",
              "      <td>30.4<\/td>\n",
              "    <\/tr>\n",
              "    <tr>\n",
              "      <th>1<\/th>\n",
              "      <td>70.6<\/td>\n",
              "      <td>50.6<\/td>\n",
              "      <td>51.2<\/td>\n",
              "      <td>13.9<\/td>\n",
              "      <td>29.0<\/td>\n",
              "      <td>8.4<\/td>\n",
              "    <\/tr>\n",
              "    <tr>\n",
              "      <th>2<\/th>\n",
              "      <td>44.7<\/td>\n",
              "      <td>91.9<\/td>\n",
              "      <td>88.9<\/td>\n",
              "      <td>1.1<\/td>\n",
              "      <td>10.0<\/td>\n",
              "      <td>20.6<\/td>\n",
              "    <\/tr>\n",
              "    <tr>\n",
              "      <th>3<\/th>\n",
              "      <td>56.0<\/td>\n",
              "      <td>49.1<\/td>\n",
              "      <td>84.5<\/td>\n",
              "      <td>79.4<\/td>\n",
              "      <td>53.3<\/td>\n",
              "      <td>75.8<\/td>\n",
              "    <\/tr>\n",
              "    <tr>\n",
              "      <th>4<\/th>\n",
              "      <td>85.8<\/td>\n",
              "      <td>24.8<\/td>\n",
              "      <td>34.0<\/td>\n",
              "      <td>42.8<\/td>\n",
              "      <td>5.5<\/td>\n",
              "      <td>86.3<\/td>\n",
              "    <\/tr>\n",
              "    <tr>\n",
              "      <th>5<\/th>\n",
              "      <td>70.8<\/td>\n",
              "      <td>6.5<\/td>\n",
              "      <td>63.4<\/td>\n",
              "      <td>91.2<\/td>\n",
              "      <td>48.1<\/td>\n",
              "      <td>63.3<\/td>\n",
              "    <\/tr>\n",
              "  <\/tbody>\n",
              "<\/table>\n",
              "<\/div>"
            ]
          },
          "metadata":{
            
          },
          "output_type":"display_data"
        }
      ],
      "metadata":{
        
      }
    },
    {
      "cell_type":"code",
      "source":[
        "distance=dataset.values\n",
        "#print(distance[2][4])\n",
        "ant_colony1 = AntColony(distance, 10,5,10, 0.95, alpha=1, beta=1)\n",
        "shortest_path = ant_colony1.run()\n",
        "print (int(shortest_path[1]))\n",
        "        "
      ],
      "attachments":{
        
      },
      "execution_count":3,
      "outputs":[
        {
          "name":"stdout",
          "text":[
            "158\n"
          ],
          "output_type":"stream"
        }
      ],
      "metadata":{
        
      }
    },
    {
      "cell_type":"code",
      "source":[
        "ant_colony2 = AntColony(distance, 20,5,10, 0.95, alpha=1, beta=1)\n",
        "shortest_path = ant_colony2.run()\n",
        "print (int(shortest_path[1]))\n",
        "        "
      ],
      "attachments":{
        
      },
      "execution_count":18,
      "outputs":[
        {
          "name":"stdout",
          "text":[
            "136\n"
          ],
          "output_type":"stream"
        }
      ],
      "metadata":{
        
      }
    },
    {
      "cell_type":"code",
      "source":[
        "ant_colony3 = AntColony(distance, 20,10,10, 0.95, alpha=1, beta=1)\n",
        "shortest_path = ant_colony3.run()\n",
        "print (int(shortest_path[1]))\n",
        "        "
      ],
      "attachments":{
        
      },
      "execution_count":22,
      "outputs":[
        {
          "name":"stdout",
          "text":[
            "136\n"
          ],
          "output_type":"stream"
        }
      ],
      "metadata":{
        
      }
    },
    {
      "cell_type":"code",
      "source":[
        "ant_colony4 = AntColony(distance, 20,10,10, 0.95, alpha=2, beta=1)\n",
        "shortest_path = ant_colony4.run()\n",
        "print (int(shortest_path[1]))"
      ],
      "attachments":{
        
      },
      "execution_count":6,
      "outputs":[
        {
          "name":"stdout",
          "text":[
            "158\n"
          ],
          "output_type":"stream"
        }
      ],
      "metadata":{
        
      }
    },
    {
      "cell_type":"code",
      "source":[
        "ant_colony5 = AntColony(distance, 20,10,10, 0.95, alpha=2, beta=2)\n",
        "shortest_path = ant_colony5.run()\n",
        "print (int(shortest_path[1]))"
      ],
      "attachments":{
        
      },
      "execution_count":7,
      "outputs":[
        {
          "name":"stdout",
          "text":[
            "158\n"
          ],
          "output_type":"stream"
        }
      ],
      "metadata":{
        
      }
    },
    {
      "cell_type":"code",
      "source":[
        "ant_colony6 = AntColony(distance, 20,10,1000, 0.95, alpha=2, beta=2)\n",
        "shortest_path = ant_colony6.run()\n",
        "print (int(shortest_path[1]))"
      ],
      "attachments":{
        
      },
      "execution_count":8,
      "outputs":[
        {
          "name":"stdout",
          "text":[
            "158\n"
          ],
          "output_type":"stream"
        }
      ],
      "metadata":{
        
      }
    },
    {
      "cell_type":"code",
      "source":[
        "ant_colony7 = AntColony(distance, 20,5,1000, 0.95, alpha=2, beta=2)\n",
        "shortest_path = ant_colony7.run()\n",
        "print (int(shortest_path[1]))"
      ],
      "attachments":{
        
      },
      "execution_count":23,
      "outputs":[
        {
          "name":"stdout",
          "text":[
            "158\n"
          ],
          "output_type":"stream"
        }
      ],
      "metadata":{
        
      }
    },
    {
      "cell_type":"code",
      "source":[
        "ant_colony8 = AntColony(distance, 20,5,1000, 0.95, alpha=2, beta=1)\n",
        "shortest_path = ant_colony8.run()\n",
        "print (int(shortest_path[1]))"
      ],
      "attachments":{
        
      },
      "execution_count":10,
      "outputs":[
        {
          "name":"stdout",
          "text":[
            "136\n"
          ],
          "output_type":"stream"
        }
      ],
      "metadata":{
        
      }
    },
    {
      "cell_type":"code",
      "source":[
        "ant_colony9 = AntColony(distance, len(distance)*2,5,len(distance)*4, 0.95, alpha=1, beta=1)\n",
        "shortest_path = ant_colony9.run()\n",
        "print (int(shortest_path[1]))"
      ],
      "attachments":{
        
      },
      "execution_count":11,
      "outputs":[
        {
          "name":"stdout",
          "text":[
            "158\n"
          ],
          "output_type":"stream"
        }
      ],
      "metadata":{
        
      }
    },
    {
      "cell_type":"code",
      "source":[
        "ant_colony10 = AntColony(distance, len(distance)*2,5,len(distance)*4, 0.8, alpha=1, beta=1)\n",
        "shortest_path = ant_colony10.run()\n",
        "print (int(shortest_path[1]))"
      ],
      "attachments":{
        
      },
      "execution_count":12,
      "outputs":[
        {
          "name":"stdout",
          "text":[
            "158\n"
          ],
          "output_type":"stream"
        }
      ],
      "metadata":{
        
      }
    },
    {
      "cell_type":"code",
      "source":[
        "ant_colony11 = AntColony(distance, len(distance)*2,5,len(distance)*4, 0.8, alpha=2, beta=1)\n",
        "shortest_path = ant_colony11.run()\n",
        "print (int(shortest_path[1]))"
      ],
      "attachments":{
        
      },
      "execution_count":13,
      "outputs":[
        {
          "name":"stdout",
          "text":[
            "158\n"
          ],
          "output_type":"stream"
        }
      ],
      "metadata":{
        
      }
    },
    {
      "cell_type":"code",
      "source":[
        "ant_colony8 = AntColony(distance, 100,20,1000, 0.95, alpha=2, beta=1)\n",
        "shortest_path = ant_colony8.run()\n",
        "print (int(shortest_path[1]))"
      ],
      "attachments":{
        
      },
      "execution_count":14,
      "outputs":[
        {
          "name":"stdout",
          "text":[
            "157\n"
          ],
          "output_type":"stream"
        }
      ],
      "metadata":{
        
      }
    },
    {
      "cell_type":"markdown",
      "source":[
        "Чаще всего выводились 158 и 157. С одинаковой частотой для разных наборов парметров. Лучший результат показывался -136. Только с показателем beta=1. Увеличение итераций без увеличения количества агентов (муравьёв) показатели не улучшили. Как и случай, когда количество итераций и муравьёв во много раз препосходит размеры матрицы.\n",
        "Наиболее оптимальные параметры (по частоте вывода лучшего результата - 136) : AntColony(distance, 20,10,10, 0.95, alpha=1, beta=1). То есть n_ants=20, n_best=10, n_iterations=10, decay=0.95, alpha=1, beta=1"
      ],
      "attachments":{
        
      },
      "metadata":{
        
      }
    },
    {
      "cell_type":"code",
      "source":[
        "dataset_simm = read_csv('data_simm.csv',';')\n",
        "dataset_simm.head(7)"
      ],
      "attachments":{
        
      },
      "execution_count":15,
      "outputs":[
        {
          "data":{
            "text\/html":[
              "<div>\n",
              "<style scoped>\n",
              "    .dataframe tbody tr th:only-of-type {\n",
              "        vertical-align: middle;\n",
              "    }\n",
              "\n",
              "    .dataframe tbody tr th {\n",
              "        vertical-align: top;\n",
              "    }\n",
              "\n",
              "    .dataframe thead th {\n",
              "        text-align: right;\n",
              "    }\n",
              "<\/style>\n",
              "<table border=\"1\" class=\"dataframe\">\n",
              "  <thead>\n",
              "    <tr style=\"text-align: right;\">\n",
              "      <th><\/th>\n",
              "      <th>x1<\/th>\n",
              "      <th>x2<\/th>\n",
              "      <th>x3<\/th>\n",
              "      <th>x4<\/th>\n",
              "      <th>x5<\/th>\n",
              "      <th>x6<\/th>\n",
              "    <\/tr>\n",
              "  <\/thead>\n",
              "  <tbody>\n",
              "    <tr>\n",
              "      <th>0<\/th>\n",
              "      <td>88.4<\/td>\n",
              "      <td>98.1<\/td>\n",
              "      <td>73.3<\/td>\n",
              "      <td>35.5<\/td>\n",
              "      <td>5.1<\/td>\n",
              "      <td>30.4<\/td>\n",
              "    <\/tr>\n",
              "    <tr>\n",
              "      <th>1<\/th>\n",
              "      <td>98.1<\/td>\n",
              "      <td>50.6<\/td>\n",
              "      <td>51.2<\/td>\n",
              "      <td>13.9<\/td>\n",
              "      <td>29.0<\/td>\n",
              "      <td>8.4<\/td>\n",
              "    <\/tr>\n",
              "    <tr>\n",
              "      <th>2<\/th>\n",
              "      <td>73.3<\/td>\n",
              "      <td>51.2<\/td>\n",
              "      <td>88.9<\/td>\n",
              "      <td>1.1<\/td>\n",
              "      <td>10.0<\/td>\n",
              "      <td>20.6<\/td>\n",
              "    <\/tr>\n",
              "    <tr>\n",
              "      <th>3<\/th>\n",
              "      <td>35.5<\/td>\n",
              "      <td>13.9<\/td>\n",
              "      <td>1.1<\/td>\n",
              "      <td>79.4<\/td>\n",
              "      <td>53.3<\/td>\n",
              "      <td>75.8<\/td>\n",
              "    <\/tr>\n",
              "    <tr>\n",
              "      <th>4<\/th>\n",
              "      <td>5.1<\/td>\n",
              "      <td>29.0<\/td>\n",
              "      <td>10.0<\/td>\n",
              "      <td>53.3<\/td>\n",
              "      <td>5.5<\/td>\n",
              "      <td>86.3<\/td>\n",
              "    <\/tr>\n",
              "    <tr>\n",
              "      <th>5<\/th>\n",
              "      <td>30.4<\/td>\n",
              "      <td>8.4<\/td>\n",
              "      <td>20.6<\/td>\n",
              "      <td>75.8<\/td>\n",
              "      <td>86.3<\/td>\n",
              "      <td>63.3<\/td>\n",
              "    <\/tr>\n",
              "  <\/tbody>\n",
              "<\/table>\n",
              "<\/div>"
            ]
          },
          "metadata":{
            
          },
          "output_type":"display_data"
        }
      ],
      "metadata":{
        
      }
    },
    {
      "cell_type":"code",
      "source":[
        "distance_simm=dataset_simm.values\n",
        "ant_colony_simm1 = AntColony(distance, 10,5,10, 0.95, alpha=1, beta=1)\n",
        "shortest_path = ant_colony_simm1.run()\n",
        "print (int(shortest_path[1]))"
      ],
      "attachments":{
        
      },
      "execution_count":16,
      "outputs":[
        {
          "name":"stdout",
          "text":[
            "158\n"
          ],
          "output_type":"stream"
        }
      ],
      "metadata":{
        
      }
    },
    {
      "cell_type":"code",
      "source":[
        "distance_simm=dataset_simm.values\n",
        "ant_colony_simm2 = AntColony(distance, 20,5,10, 0.95, alpha=1, beta=1)\n",
        "shortest_path = ant_colony_simm2.run()\n",
        "print (int(shortest_path[1]))"
      ],
      "attachments":{
        
      },
      "execution_count":17,
      "outputs":[
        {
          "name":"stdout",
          "text":[
            "158\n"
          ],
          "output_type":"stream"
        }
      ],
      "metadata":{
        
      }
    }
  ],
  "metadata":{
    
  },
  "nbformat":4,
  "nbformat_minor":0
}