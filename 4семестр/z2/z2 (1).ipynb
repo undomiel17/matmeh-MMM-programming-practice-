{
  "cells":[
    {
      "cell_type":"code",
      "source":[
        
      ],
      "attachments":{
        
      },
      "execution_count":17,
      "outputs":[
        
      ],
      "metadata":{
        
      }
    },
    {
      "cell_type":"code",
      "source":[
        
      ],
      "attachments":{
        
      },
      "execution_count":0,
      "outputs":[
        
      ],
      "metadata":{
        
      }
    },
    {
      "cell_type":"code",
      "source":[
        "import pandas as pd\n",
        "import numpy as np\n",
        "import sklearn as sk\n",
        "from sklearn.preprocessing import LabelEncoder\n",
        "%matplotlib inline\n",
        "DATAPATH = 'mushrooms.csv'\n",
        "\n",
        "data = pd.read_csv(DATAPATH, sep=';')\n",
        "#data.shape #nubber of strings and columns\n",
        "data.head(5)\n",
        "for col in data.columns: #number of zero cells\n",
        "    print(\"{} : {}\".format(col, data[col].isnull().sum()))\n",
        "\n",
        "le = LabelEncoder() #1 poisonous 0 edible\n",
        "data['class'] = le.fit_transform(data['class'])\n",
        "data.head()\n",
        "\n",
        "encoded_data = pd.get_dummies(data)\n",
        "encoded_data.head(5)\n",
        "\n",
        "from sklearn.model_selection import train_test_split\n",
        "y = data['class'].values.reshape(-1, 1)\n",
        "X = encoded_data\n",
        "\n",
        "X_train, X_test, y_train, y_test = train_test_split(X, y, test_size=0.2, random_state=42)\n",
        "\n",
        "\n",
        "from sklearn.tree import DecisionTreeClassifier\n",
        "classifier = DecisionTreeClassifier()\n",
        "classifier.fit(X_train, y_train)\n",
        "\n",
        "y_pred = classifier.predict(X_test) #prognosis\n",
        "\n",
        "from sklearn.metrics import classification_report, confusion_matrix\n",
        "print(confusion_matrix(y_test, y_pred))\n",
        "print(classification_report(y_test, y_pred))\n",
        "\n",
        "#print(X, y)\n",
        "\n",
        "classifier.fit(X_test, y_test)\n",
        "classifier.score(X_test, y_test)\n",
        "\n",
        "\n"
      ],
      "attachments":{
        
      },
      "execution_count":19,
      "outputs":[
        {
          "name":"stdout",
          "text":[
            "class : 0\n",
            "cap-shape : 0\n",
            "cap-surface : 0\n",
            "cap-color : 0\n",
            "bruises : 0\n",
            "odor : 0\n",
            "gill-attachment : 0\n",
            "gill-spacing : 0\n",
            "gill-size : 0\n",
            "gill-color : 0\n",
            "stalk-shape : 0\n",
            "stalk-root : 0\n",
            "stalk-surface-above-ring : 0\n",
            "stalk-surface-below-ring : 0\n",
            "stalk-color-above-ring : 0\n",
            "stalk-color-below-ring : 0\n",
            "veil-type : 0\n",
            "veil-color : 0\n",
            "ring-number : 0\n",
            "ring-type : 0\n",
            "spore-print-color : 0\n",
            "population : 0\n",
            "habitat : 0\n",
            "[[843   0]\n",
            " [  0 782]]\n",
            "              precision    recall  f1-score   support\n",
            "\n",
            "           0       1.00      1.00      1.00       843\n",
            "           1       1.00      1.00      1.00       782\n",
            "\n",
            "    accuracy                           1.00      1625\n",
            "   macro avg       1.00      1.00      1.00      1625\n",
            "weighted avg       1.00      1.00      1.00      1625\n",
            "\n"
          ],
          "output_type":"stream"
        },
        {
          "data":{
            "text\/plain":[
              "1.0"
            ]
          },
          "metadata":{
            
          },
          "output_type":"display_data"
        }
      ],
      "metadata":{
        
      }
    }
  ],
  "metadata":{
    
  },
  "nbformat":4,
  "nbformat_minor":0
}